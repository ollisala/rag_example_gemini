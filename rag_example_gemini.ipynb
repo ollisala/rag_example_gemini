{
 "cells": [
  {
   "cell_type": "markdown",
   "metadata": {
    "id": "Tce3stUlHN0L"
   },
   "source": [
    "##### Copyright 2025 Google LLC."
   ]
  },
  {
   "cell_type": "code",
   "execution_count": null,
   "metadata": {
    "cellView": "form",
    "execution": {
     "iopub.execute_input": "2025-03-31T10:16:36.652127Z",
     "iopub.status.busy": "2025-03-31T10:16:36.651458Z",
     "iopub.status.idle": "2025-03-31T10:16:36.658808Z",
     "shell.execute_reply": "2025-03-31T10:16:36.657348Z",
     "shell.execute_reply.started": "2025-03-31T10:16:36.652068Z"
    },
    "id": "tuOe1ymfHZPu",
    "jupyter": {
     "source_hidden": true
    }
   },
   "outputs": [],
   "source": [
    "# @title Licensed under the Apache License, Version 2.0 (the \"License\");\n",
    "# you may not use this file except in compliance with the License.\n",
    "# You may obtain a copy of the License at\n",
    "#\n",
    "# https://www.apache.org/licenses/LICENSE-2.0\n",
    "#\n",
    "# Unless required by applicable law or agreed to in writing, software\n",
    "# distributed under the License is distributed on an \"AS IS\" BASIS,\n",
    "# WITHOUT WARRANTIES OR CONDITIONS OF ANY KIND, either express or implied.\n",
    "# See the License for the specific language governing permissions and\n",
    "# limitations under the License."
   ]
  },
  {
   "cell_type": "markdown",
   "metadata": {
    "id": "CsVPnR8VbXE6"
   },
   "source": [
    "# RAG example with Gemini and ChromaDB\n",
    "\n",
    "Taken from the Kaggle 5-day Generative AI course 2025.\n"
   ]
  },
  {
   "cell_type": "markdown",
   "metadata": {
    "id": "akuOzK4dJl3j"
   },
   "source": [
    "## Setup / Python environment\n",
    "\n",
    "First, install ChromaDB and the Gemini API Python SDK."
   ]
  },
  {
   "cell_type": "code",
   "execution_count": 2,
   "metadata": {
    "id": "JbXe7Oodc5dP"
   },
   "outputs": [
    {
     "name": "stdout",
     "output_type": "stream",
     "text": [
      "\n",
      "\u001b[1m[\u001b[0m\u001b[34;49mnotice\u001b[0m\u001b[1;39;49m]\u001b[0m\u001b[39;49m A new release of pip is available: \u001b[0m\u001b[31;49m25.0\u001b[0m\u001b[39;49m -> \u001b[0m\u001b[32;49m25.0.1\u001b[0m\n",
      "\u001b[1m[\u001b[0m\u001b[34;49mnotice\u001b[0m\u001b[1;39;49m]\u001b[0m\u001b[39;49m To update, run: \u001b[0m\u001b[32;49mpip install --upgrade pip\u001b[0m\n"
     ]
    }
   ],
   "source": [
    "!pip uninstall -qqy kfp  # Remove unused conflicting packages\n",
    "!pip install -qU \"google-genai==1.7.0\" \"chromadb==0.6.3\""
   ]
  },
  {
   "cell_type": "code",
   "execution_count": 1,
   "metadata": {
    "id": "muuhsDmmKdHi"
   },
   "outputs": [
    {
     "data": {
      "text/plain": [
       "'1.7.0'"
      ]
     },
     "execution_count": 1,
     "metadata": {},
     "output_type": "execute_result"
    }
   ],
   "source": [
    "from google import genai\n",
    "from google.genai import types\n",
    "\n",
    "from IPython.display import Markdown\n",
    "\n",
    "genai.__version__"
   ]
  },
  {
   "cell_type": "markdown",
   "metadata": {},
   "source": [
    "## Setup / Google API key\n",
    "1. You need to create an API key at https://aistudio.google.com\n",
    "2. Example code loads it from environment variables.\n"
   ]
  },
  {
   "cell_type": "code",
   "execution_count": 2,
   "metadata": {
    "id": "ysayz8skEfBW"
   },
   "outputs": [],
   "source": [
    "import os\n",
    "\n",
    "GOOGLE_API_KEY = os.environ['GOOGLE_API_KEY']"
   ]
  },
  {
   "cell_type": "markdown",
   "metadata": {
    "id": "fegnGFpMS4AI"
   },
   "source": [
    "## Explore available models\n",
    "\n",
    "You will be using the [`embedContent`](https://ai.google.dev/api/embeddings#method:-models.embedcontent) API method to calculate embeddings in this guide. Find a model that supports it through the [`models.list`](https://ai.google.dev/api/models#method:-models.list) endpoint. You can also find more information about the embedding models on [the models page](https://ai.google.dev/gemini-api/docs/models/gemini#text-embedding).\n",
    "\n",
    "`text-embedding-004` is the most recent generally-available embedding model, so you will use it for this exercise, but try out the experimental `gemini-embedding-exp-03-07` model too."
   ]
  },
  {
   "cell_type": "code",
   "execution_count": 3,
   "metadata": {
    "id": "Km5d13_FS2Q_"
   },
   "outputs": [
    {
     "name": "stdout",
     "output_type": "stream",
     "text": [
      "models/embedding-001\n",
      "models/text-embedding-004\n",
      "models/gemini-embedding-exp-03-07\n",
      "models/gemini-embedding-exp\n"
     ]
    }
   ],
   "source": [
    "client = genai.Client(api_key=GOOGLE_API_KEY)\n",
    "\n",
    "for m in client.models.list():\n",
    "    if \"embedContent\" in m.supported_actions:\n",
    "        print(m.name)"
   ]
  },
  {
   "cell_type": "markdown",
   "metadata": {
    "id": "3XWKXoXwOGxS"
   },
   "source": [
    "## Data\n",
    "Example company is a hat shop offering three kinds of hats: caps, bands and top hats.\n",
    "\n",
    "Here is 20 example question-and-answer pairs suitable for training a RAG model for hat company's customer support. These cover various aspects like sizing, colors, materials, care, shipping, and returns across your product types (caps, bands, top hats)."
   ]
  },
  {
   "cell_type": "code",
   "execution_count": 4,
   "metadata": {
    "id": "k8nsbhFJKmG-"
   },
   "outputs": [],
   "source": [
    "documents = [\n",
    "    # --- Sizing Questions ---\n",
    "    \"Question: How do I determine the correct size for a top hat?\\nAnswer: To find your perfect top hat size, measure the circumference of your head just above your ears, where the hat will sit. Compare this measurement (in cm or inches) to the size chart available on each top hat product page. If you're between sizes, we generally recommend sizing up for comfort.\",\n",
    "\n",
    "    \"Question: My head measures 58cm. What size cap should I order?\\nAnswer: A 58cm head circumference typically corresponds to a Large (L) in most of our cap styles. However, please always consult the specific size chart on the product page for the cap you're interested in, as fit can vary slightly between styles (e.g., fitted vs. adjustable).\",\n",
    "\n",
    "    \"Question: Are your head bands one-size-fits-all?\\nAnswer: Most of our bands are made with stretchy materials designed to fit a wide range of head sizes comfortably, typically accommodating circumferences from 55cm to 60cm. Please check the product description for any specific sizing notes or variations for particular band styles.\",\n",
    "\n",
    "    \"Question: What if I order a hat and the size is wrong?\\nAnswer: No problem! We offer a 30-day return and exchange policy for unworn hats with tags still attached. You can easily initiate an exchange for a different size through our online returns portal. Please see our Returns & Exchanges page for full details.\",\n",
    "\n",
    "    # --- Color Questions ---\n",
    "    \"Question: Is the 'Forest Green' color for the cap accurate on the website?\\nAnswer: We strive to represent colors as accurately as possible online. However, screen calibration can vary. The 'Forest Green' is a deep, rich green. If you have concerns, customer photos in the reviews section might offer additional perspectives.\",\n",
    "\n",
    "    \"Question: Do you offer top hats in colors other than black?\\nAnswer: While classic black is our most popular top hat color, we do offer limited runs in other colors like charcoal grey and navy blue depending on the season and style. Please check the Top Hats category on our website for current color availability.\",\n",
    "\n",
    "    \"Question: Are the colors for the bands vibrant?\\nAnswer: Yes, our bands come in a variety of colors, many of which are designed to be vibrant and eye-catching. The specific vibrancy can depend on the material used. Check the product description and images for the best representation of each color.\",\n",
    "\n",
    "    # --- Material & Care Questions ---\n",
    "    \"Question: What material are your standard baseball caps made from?\\nAnswer: Our standard baseball caps are typically made from 100% cotton twill for breathability and comfort. Some performance or speciality caps might use synthetic blends. Material composition is always listed on the product details page.\",\n",
    "\n",
    "    \"Question: How should I clean my wool top hat?\\nAnswer: Wool top hats require careful cleaning. We recommend spot cleaning minor marks with a slightly damp cloth. For more thorough cleaning or reshaping, professional hat cleaning is advised. Avoid submerging the hat in water.\",\n",
    "\n",
    "    \"Question: Can I machine wash the head bands?\\nAnswer: Care instructions vary by band material. Cotton or synthetic blend bands can often be machine washed on a gentle cycle with cold water and air-dried. However, bands with delicate embellishments or specific materials might require hand washing. Always check the care label or product page instructions.\",\n",
    "\n",
    "    \"Question: Are your hats suitable for rainy weather?\\nAnswer: Material matters most here. Cotton caps offer minimal water resistance. Some performance caps might have a water-repellent finish. Wool top hats can handle light drizzle but should not be saturated. Bands are generally not designed for rain protection. Check product descriptions for specific water-resistance information.\",\n",
    "\n",
    "    # --- Product Specific Questions ---\n",
    "    \"Question: Are your caps structured or unstructured?\\nAnswer: We offer both! Structured caps have a stiff buckram lining in the front panels to maintain their shape, while unstructured caps have a softer, more relaxed fit. This information is specified in the product description for each cap style.\",\n",
    "\n",
    "    \"Question: What's the difference between a cap and a band?\\nAnswer: Caps cover the entire top of the head and usually feature a brim or visor for sun protection. Bands are typically strips of fabric worn around the head primarily for style, sweat absorption during activities, or keeping hair back.\",\n",
    "\n",
    "    \"Question: Are top hats only for formal events?\\nAnswer: Traditionally, top hats are associated with formal wear (like morning dress or white tie). However, they can also be a bold fashion statement for less formal, stylish occasions depending on the specific design and how you style them.\",\n",
    "\n",
    "    # --- Availability & Ordering ---\n",
    "    \"Question: The medium red cap I want is out of stock. When will it be back?\\nAnswer: We restock popular items regularly. You can sign up for a 'Back in Stock' notification directly on the product page. Enter your email, and we'll notify you as soon as the medium red cap is available again.\",\n",
    "\n",
    "    \"Question: Do you offer any discounts for first-time buyers?\\nAnswer: Yes! We often have a welcome discount for new customers who sign up for our email newsletter. Please check the banner at the top or bottom of our website for current promotions.\",\n",
    "\n",
    "    # --- Shipping & Returns ---\n",
    "    \"Question: How long does shipping usually take within the UK?\\nAnswer: Standard shipping within the UK typically takes 3-5 business days after processing. We also offer expedited shipping options at checkout, usually delivering within 1-2 business days. You'll receive tracking information once your order ships.\",\n",
    "\n",
    "    \"Question: Can I return a hat purchased on sale?\\nAnswer: Our return policy generally applies to sale items as well, provided they are returned unworn with tags attached within the 30-day window. However, items marked as 'Final Sale' are non-returnable. Please check the item's description and our full Return Policy page.\",\n",
    "\n",
    "    # --- Miscellaneous ---\n",
    "    \"Question: Can I get a hat customized with my logo?\\nAnswer: We currently do not offer individual customization services through our website. However, for bulk orders (typically 50+ units), we may be able to accommodate custom embroidery. Please contact our corporate sales team for inquiries.\",\n",
    "\n",
    "    \"Question: Where are your hats manufactured?\\nAnswer: We partner with various manufacturers globally to produce our hats, ensuring high quality standards. Specific country of origin information can usually be found on the care label inside the hat.\"\n",
    "]"
   ]
  },
  {
   "cell_type": "markdown",
   "metadata": {
    "id": "yDzxArLeOexD"
   },
   "source": [
    "## Creating the embedding database with ChromaDB\n",
    "\n",
    "Create a [custom function](https://docs.trychroma.com/guides/embeddings#custom-embedding-functions) to generate embeddings with the Gemini API. In this task, you are implementing a retrieval system, so the `task_type` for generating the *document* embeddings is `retrieval_document`. Later, you will use `retrieval_query` for the *query* embeddings. Check out the [API reference](https://ai.google.dev/api/embeddings#v1beta.TaskType) for the full list of supported tasks.\n",
    "\n",
    "Key words: Documents are the items that are in the database. They are inserted first, and later retrieved. Queries are the textual search terms and can be simple keywords or textual descriptions of the desired documents."
   ]
  },
  {
   "cell_type": "code",
   "execution_count": 8,
   "metadata": {},
   "outputs": [
    {
     "name": "stdout",
     "output_type": "stream",
     "text": [
      "\n",
      "\u001b[1m[\u001b[0m\u001b[34;49mnotice\u001b[0m\u001b[1;39;49m]\u001b[0m\u001b[39;49m A new release of pip is available: \u001b[0m\u001b[31;49m25.0\u001b[0m\u001b[39;49m -> \u001b[0m\u001b[32;49m25.0.1\u001b[0m\n",
      "\u001b[1m[\u001b[0m\u001b[34;49mnotice\u001b[0m\u001b[1;39;49m]\u001b[0m\u001b[39;49m To update, run: \u001b[0m\u001b[32;49mpip install --upgrade pip\u001b[0m\n"
     ]
    }
   ],
   "source": [
    "!pip install -qU \"google-api_core\""
   ]
  },
  {
   "cell_type": "code",
   "execution_count": 5,
   "metadata": {
    "id": "mF7Uu1kCQsT0"
   },
   "outputs": [],
   "source": [
    "from chromadb import Documents, EmbeddingFunction, Embeddings\n",
    "from google.api_core import retry\n",
    "\n",
    "from google.genai import types\n",
    "\n",
    "\n",
    "# Define a helper to retry when per-minute quota is reached.\n",
    "is_retriable = lambda e: (isinstance(e, genai.errors.APIError) and e.code in {429, 503})\n",
    "\n",
    "\n",
    "class GeminiEmbeddingFunction(EmbeddingFunction):\n",
    "    # Specify whether to generate embeddings for documents, or queries\n",
    "    document_mode = True\n",
    "\n",
    "    @retry.Retry(predicate=is_retriable)\n",
    "    def __call__(self, input: Documents) -> Embeddings:\n",
    "        if self.document_mode:\n",
    "            embedding_task = \"retrieval_document\"\n",
    "        else:\n",
    "            embedding_task = \"retrieval_query\"\n",
    "\n",
    "        response = client.models.embed_content(\n",
    "            model=\"models/text-embedding-004\",\n",
    "            contents=input,\n",
    "            config=types.EmbedContentConfig(\n",
    "                task_type=embedding_task,\n",
    "            ),\n",
    "        )\n",
    "        return [e.values for e in response.embeddings]"
   ]
  },
  {
   "cell_type": "markdown",
   "metadata": {
    "id": "HrDWLyopPNBf"
   },
   "source": [
    "Now create a [Chroma database client](https://docs.trychroma.com/getting-started) that uses the `GeminiEmbeddingFunction` and populate the database with the documents you defined above."
   ]
  },
  {
   "cell_type": "code",
   "execution_count": 6,
   "metadata": {
    "id": "OITXgxZlLoXU"
   },
   "outputs": [],
   "source": [
    "import chromadb\n",
    "\n",
    "DB_NAME = \"emaildb\"\n",
    "\n",
    "embed_fn = GeminiEmbeddingFunction()\n",
    "embed_fn.document_mode = True\n",
    "\n",
    "chroma_client = chromadb.Client()\n",
    "db = chroma_client.get_or_create_collection(name=DB_NAME, embedding_function=embed_fn)\n",
    "\n",
    "db.add(documents=documents, ids=[str(i) for i in range(len(documents))])"
   ]
  },
  {
   "cell_type": "markdown",
   "metadata": {
    "id": "2QbwFgfXp-fL"
   },
   "source": [
    "Confirm that the data was inserted by looking at the database."
   ]
  },
  {
   "cell_type": "code",
   "execution_count": 7,
   "metadata": {
    "id": "kQ9PHUL_l-hf"
   },
   "outputs": [
    {
     "data": {
      "text/plain": [
       "20"
      ]
     },
     "execution_count": 7,
     "metadata": {},
     "output_type": "execute_result"
    }
   ],
   "source": [
    "db.count()\n",
    "# You can peek at the data too.\n",
    "# db.peek(1)"
   ]
  },
  {
   "cell_type": "code",
   "execution_count": 8,
   "metadata": {
    "scrolled": true
   },
   "outputs": [
    {
     "data": {
      "text/plain": [
       "{'ids': ['0'],\n",
       " 'embeddings': array([[-1.78592559e-02,  7.11010071e-03, -1.39390246e-03,\n",
       "         -4.97947708e-02, -6.95656566e-03,  3.63590457e-02,\n",
       "          1.81056075e-02, -5.80168068e-02,  4.23502810e-02,\n",
       "          3.08909100e-02, -3.40557247e-02, -2.03881916e-02,\n",
       "          3.81441675e-02, -1.00490395e-02, -2.61711255e-02,\n",
       "         -1.15821818e-02,  1.06935657e-03, -4.10843035e-03,\n",
       "         -8.73519778e-02, -2.11254489e-02,  3.32121588e-02,\n",
       "          5.33391442e-03,  3.58477160e-02,  1.75748821e-02,\n",
       "          1.99162234e-02,  4.56856079e-02, -3.83582637e-02,\n",
       "          5.88292778e-02, -3.69718708e-02, -6.24979883e-02,\n",
       "          4.83883172e-02,  3.58200185e-02,  4.95013362e-03,\n",
       "         -6.89058080e-02,  4.96878400e-02,  1.08250100e-02,\n",
       "          3.65690049e-03,  6.78346753e-02,  5.21615259e-02,\n",
       "         -6.29851967e-02, -3.36982980e-02,  3.54755372e-02,\n",
       "         -1.11675709e-02,  5.81644475e-03, -3.67455892e-02,\n",
       "          5.09840809e-02, -5.40083786e-03,  4.05586585e-02,\n",
       "         -6.56497106e-02,  4.87722717e-02,  1.78968124e-02,\n",
       "          7.37270936e-02, -3.31734493e-02,  1.23044401e-02,\n",
       "          8.61667935e-03, -2.15569455e-02, -3.57278660e-02,\n",
       "         -3.43001867e-03,  1.82812680e-02, -4.28469665e-03,\n",
       "          4.08165418e-02,  3.73029225e-02,  4.40280773e-02,\n",
       "         -5.44824579e-04, -1.43592963e-02, -9.12336446e-03,\n",
       "          4.25123014e-02,  2.13442110e-02, -1.89646147e-02,\n",
       "          5.20871282e-02,  1.67200603e-02,  3.48039977e-02,\n",
       "         -4.47060019e-02, -1.44523829e-02, -1.06414100e-02,\n",
       "         -2.78333891e-02,  1.38401724e-02, -1.11156618e-02,\n",
       "         -4.42239493e-02,  2.79544555e-02,  3.34268808e-02,\n",
       "         -1.03046354e-02,  5.84904142e-02,  6.90820739e-02,\n",
       "         -2.23848112e-02, -2.31255814e-02,  4.65363003e-02,\n",
       "         -6.31047189e-02,  8.56113248e-03, -3.15518789e-02,\n",
       "          5.40816449e-02,  1.35857770e-02, -7.74578773e-04,\n",
       "          1.76757444e-02,  9.15153250e-02,  1.96537971e-02,\n",
       "         -7.44831637e-02, -9.45530385e-02,  6.55251443e-02,\n",
       "          5.15615977e-02,  2.18520314e-02,  2.98541076e-02,\n",
       "          5.06357364e-02, -4.84770797e-02,  1.73509563e-03,\n",
       "         -1.42639037e-02,  1.48025537e-02, -9.56116058e-03,\n",
       "         -4.28501181e-02,  2.25042440e-02,  6.72609499e-03,\n",
       "         -2.70466171e-02, -2.84657464e-03, -4.39408086e-02,\n",
       "         -9.46857443e-04, -2.60704886e-02,  1.19404020e-02,\n",
       "         -1.38577959e-02, -1.07742408e-02,  7.55353421e-02,\n",
       "         -4.62157018e-02,  4.02225442e-02,  3.78051214e-02,\n",
       "          4.85758670e-02,  5.65503500e-02,  6.47143945e-02,\n",
       "         -1.33456048e-02, -9.36794747e-03, -1.49172312e-02,\n",
       "         -6.24554977e-02,  5.92408441e-02, -5.90365455e-02,\n",
       "         -5.10746315e-02, -9.51130933e-04, -1.68363343e-03,\n",
       "         -1.56617556e-02,  5.34588844e-02, -8.57481435e-02,\n",
       "          4.07220237e-02,  1.70617066e-02, -1.08403871e-02,\n",
       "         -5.57096861e-02, -3.06102782e-02,  6.66912124e-02,\n",
       "          3.63563024e-03, -1.65601466e-02, -5.19232787e-02,\n",
       "          3.26853357e-02, -4.00591791e-02,  1.45257022e-02,\n",
       "          1.92506239e-02, -6.09780941e-03,  1.03680212e-02,\n",
       "         -2.94722337e-02, -1.72891433e-03,  3.93400434e-04,\n",
       "          5.42537868e-02, -2.68023908e-02,  2.64441073e-02,\n",
       "          1.09461760e-02,  4.62153256e-02, -6.09018095e-02,\n",
       "          2.13209540e-02,  5.68819679e-02, -2.24195849e-02,\n",
       "         -2.58352831e-02,  1.73880644e-02, -2.40385402e-02,\n",
       "         -1.38135217e-02, -3.73398289e-02, -8.80041718e-03,\n",
       "         -5.25574572e-02,  3.58976312e-02, -1.08052909e-01,\n",
       "          5.66939898e-02, -4.27994877e-03,  2.38468237e-02,\n",
       "         -2.50619110e-02, -3.80422920e-02,  4.27007936e-02,\n",
       "          6.42202348e-02,  4.51608114e-02,  8.65942985e-03,\n",
       "         -6.96635023e-02,  1.48671828e-02,  1.45696979e-02,\n",
       "         -6.30052760e-02,  2.66800188e-02,  3.54716629e-02,\n",
       "          4.46517318e-02,  6.35059504e-03, -2.80562583e-02,\n",
       "          2.62456983e-02,  4.27480526e-02,  6.74585178e-02,\n",
       "         -9.27822664e-03,  4.70839478e-02,  3.25616561e-02,\n",
       "          2.85334513e-02, -8.55613351e-02,  6.15995787e-02,\n",
       "          1.20692514e-02, -2.70589590e-02, -4.88170572e-02,\n",
       "         -1.21964477e-02, -1.30996181e-04,  2.68859603e-02,\n",
       "         -6.45519495e-02, -1.27585335e-02,  1.41934231e-02,\n",
       "          8.79480224e-03, -9.82096046e-03, -2.49052588e-02,\n",
       "          5.89129922e-04,  3.93995494e-02, -8.56937543e-02,\n",
       "          3.84978466e-02, -4.41208631e-02,  3.41764092e-02,\n",
       "          2.39739884e-02, -1.56862981e-04,  9.91853513e-03,\n",
       "          6.22027479e-02,  5.25198802e-02,  1.02537582e-02,\n",
       "          5.98314963e-03,  3.83709604e-03, -1.07000228e-02,\n",
       "         -1.52430520e-03, -5.07186167e-02, -1.17848115e-02,\n",
       "          3.74133512e-02, -7.48468656e-03, -1.33142350e-02,\n",
       "         -2.90470887e-02,  3.11583504e-02, -6.64934376e-03,\n",
       "         -4.55097370e-02, -1.49606289e-02, -2.31387243e-02,\n",
       "          5.73661476e-02, -1.09451348e-02,  5.29643930e-02,\n",
       "          2.00451799e-02,  9.20043048e-03, -7.02136904e-02,\n",
       "          6.96307793e-02, -6.02820590e-02, -7.39629287e-03,\n",
       "         -5.41233048e-02, -1.18114948e-02, -8.10385570e-02,\n",
       "          2.73144767e-02,  2.99296575e-04, -8.29591900e-02,\n",
       "         -1.40903248e-02, -2.53990516e-02, -4.68603931e-02,\n",
       "         -2.02493016e-02, -9.83204879e-03,  1.02366865e-01,\n",
       "          1.23724211e-02, -8.83458555e-03, -5.98537438e-02,\n",
       "          3.72203290e-02, -6.62108436e-02, -4.18303944e-02,\n",
       "         -2.11644210e-02,  1.35158503e-03, -3.39654535e-02,\n",
       "         -5.24926893e-02, -4.69504111e-02, -1.28926896e-02,\n",
       "          1.87992845e-02,  2.76278816e-02, -4.03395994e-03,\n",
       "         -1.06438100e-02, -5.50071374e-02, -7.90517405e-03,\n",
       "         -1.46919368e-02,  4.45897039e-03,  5.80461659e-02,\n",
       "         -3.08668241e-02,  1.50690656e-02,  4.73553799e-02,\n",
       "         -6.31065518e-02, -2.26853825e-02,  5.08148037e-02,\n",
       "         -2.53386367e-02, -2.77097034e-03,  1.70731246e-02,\n",
       "          4.72095981e-02,  1.65874921e-02,  3.04674525e-02,\n",
       "          7.21252151e-03,  5.32748625e-02,  4.05420437e-02,\n",
       "          2.52294876e-02, -2.15950254e-02, -8.60737637e-03,\n",
       "          4.21726666e-02,  2.57485770e-02,  1.19923474e-03,\n",
       "         -9.82392207e-03, -3.67145822e-03, -4.73651849e-02,\n",
       "          1.68635957e-02, -3.20306942e-02, -5.31657897e-02,\n",
       "          1.13158114e-02, -4.51185331e-02,  1.96513999e-02,\n",
       "         -2.66985111e-02, -2.17856020e-02, -4.66459729e-02,\n",
       "         -1.91205945e-02, -1.42981112e-01, -1.39673147e-02,\n",
       "          7.37364292e-02, -7.66654760e-02,  3.06382012e-02,\n",
       "         -2.61099953e-02, -1.92570370e-02,  6.21706657e-02,\n",
       "         -1.08286534e-02, -2.38899104e-02,  2.13888586e-02,\n",
       "         -2.11288966e-02,  1.44030610e-02, -5.99365262e-03,\n",
       "          7.97670521e-03, -5.68888523e-02, -2.56292354e-02,\n",
       "         -1.58299394e-02, -2.43871976e-02, -2.48702820e-02,\n",
       "         -3.49304974e-02, -1.69710070e-02,  7.97124207e-02,\n",
       "          1.21761737e-02,  3.10342833e-02,  3.95182669e-02,\n",
       "          1.83369406e-02, -2.15520980e-04, -2.52124406e-02,\n",
       "         -3.87689993e-02, -1.72844492e-02,  4.50439714e-02,\n",
       "          2.73479149e-02, -1.92747149e-03, -1.77588165e-02,\n",
       "          2.51997244e-02,  2.95507517e-02,  1.06317736e-02,\n",
       "          2.48506162e-02,  1.74836942e-03,  1.89579348e-03,\n",
       "          5.26133366e-03,  4.87026013e-03, -5.80818541e-02,\n",
       "         -2.15859078e-02,  4.63522127e-04,  3.19794156e-02,\n",
       "          3.29956822e-02,  3.68283764e-02, -7.05941096e-02,\n",
       "         -5.94692677e-03,  2.51590330e-02, -1.93247609e-02,\n",
       "         -3.14507522e-02,  5.06323902e-03,  3.89288813e-02,\n",
       "          2.68108882e-02, -3.13366875e-02,  1.71741024e-02,\n",
       "         -1.38058402e-02, -6.65638298e-02,  6.86317682e-03,\n",
       "         -2.50187106e-02, -2.24331003e-02, -3.47750112e-02,\n",
       "         -2.98879128e-02, -6.37116330e-03, -2.28045993e-02,\n",
       "         -1.85251366e-02,  4.23732586e-03, -4.27862629e-02,\n",
       "          3.05864029e-02, -2.26396997e-03, -1.88129733e-03,\n",
       "         -7.69820511e-02,  4.39830087e-02,  6.87631080e-03,\n",
       "          4.68749963e-02, -5.41225448e-03,  4.64623347e-02,\n",
       "         -1.89215522e-02,  3.13973837e-02, -2.06422117e-02,\n",
       "          1.81460660e-02, -7.20160874e-03, -3.09211761e-02,\n",
       "          6.55831471e-02, -8.13769177e-02, -1.60452854e-02,\n",
       "          4.38127592e-02,  1.16986055e-02,  1.51787056e-02,\n",
       "         -1.23048751e-02, -1.40054617e-02,  9.21290088e-03,\n",
       "         -7.88773298e-02, -2.06659380e-02, -3.34983282e-02,\n",
       "         -3.37602012e-02, -4.90267389e-02,  5.55220544e-02,\n",
       "          7.20625278e-03, -3.09215160e-03,  1.37897274e-02,\n",
       "          7.64420535e-03,  9.65301041e-03, -1.65033210e-02,\n",
       "         -5.13300812e-03,  2.80745123e-02, -1.09677967e-02,\n",
       "          3.02811433e-02,  4.80738245e-02, -4.71717604e-02,\n",
       "         -1.01552038e-02,  1.68115471e-03,  2.87648533e-02,\n",
       "          5.37859835e-03,  4.08595018e-02,  6.97625652e-02,\n",
       "          2.61034127e-02, -3.22838174e-03,  8.84245057e-03,\n",
       "         -2.20558066e-02,  1.77892018e-03, -2.39796080e-02,\n",
       "          2.97826119e-02,  2.42287908e-02,  4.77946317e-03,\n",
       "         -3.49211842e-02,  1.10828400e-01,  4.96508628e-02,\n",
       "          7.21945520e-03, -1.33630903e-02, -4.95357588e-02,\n",
       "          2.04615649e-02, -5.12457751e-02, -3.00007164e-02,\n",
       "         -3.62623744e-02, -3.58556956e-02, -4.05633785e-02,\n",
       "         -1.26581518e-02,  2.07294691e-02, -3.22256573e-02,\n",
       "          3.19261942e-03, -1.58873014e-02, -3.71568389e-02,\n",
       "          6.79109916e-02,  4.34244350e-02, -8.25805124e-03,\n",
       "         -2.27043647e-02, -2.24877112e-02,  2.93396711e-02,\n",
       "         -1.74492896e-02,  3.04344371e-02,  4.93323244e-02,\n",
       "         -2.45744977e-02, -1.08215082e-02,  2.04684120e-02,\n",
       "         -3.76291499e-02, -2.08750833e-02,  9.83376801e-03,\n",
       "          2.02946980e-02, -7.11836070e-02, -8.55054893e-03,\n",
       "         -2.78463066e-02,  1.75020937e-02, -1.79480799e-02,\n",
       "         -6.77566929e-03,  3.73796113e-02,  2.86341421e-02,\n",
       "         -2.86189597e-02,  7.68899992e-02,  5.01444796e-03,\n",
       "          3.07919621e-03,  2.10706070e-02,  2.51109730e-02,\n",
       "          3.15441974e-02, -3.29427719e-02, -3.04257143e-02,\n",
       "          1.38652243e-03,  9.29691866e-02,  1.15088029e-02,\n",
       "          1.26745906e-02,  3.13281007e-02,  8.39640722e-02,\n",
       "          4.28832514e-04, -4.43938561e-02, -1.96088254e-02,\n",
       "          1.98518671e-02,  1.16033386e-02, -1.25958147e-02,\n",
       "         -4.38555628e-02,  3.94324921e-02,  1.50304502e-02,\n",
       "         -1.26740476e-02,  4.63711750e-03, -2.46912912e-02,\n",
       "          1.84585582e-02, -7.25721056e-03, -1.44969625e-02,\n",
       "         -2.12055687e-02,  1.26930121e-02,  7.59585947e-02,\n",
       "          8.21225867e-02, -1.74972247e-02,  3.42104696e-02,\n",
       "         -4.00415175e-02,  7.57947052e-03, -3.48905735e-02,\n",
       "         -5.82862757e-02,  3.88550945e-02,  3.40205170e-02,\n",
       "         -3.73459682e-02, -1.05643116e-01, -6.55261353e-02,\n",
       "          5.50678335e-02, -2.85965148e-02,  2.74345726e-02,\n",
       "          1.47105306e-02, -1.36368014e-02,  1.22379083e-02,\n",
       "          1.02124615e-02,  1.22828782e-02, -2.66309381e-02,\n",
       "         -2.21651066e-02,  4.35527880e-03,  4.32991721e-02,\n",
       "          6.64562434e-02,  1.75342318e-02,  2.55192374e-03,\n",
       "          3.55325677e-02,  3.38626802e-02, -5.16607203e-02,\n",
       "          3.52877863e-02, -4.03031781e-02, -3.61074843e-02,\n",
       "          2.14984752e-02, -2.59339064e-03,  1.38005847e-02,\n",
       "          2.69051753e-02, -2.64611747e-02,  1.44620910e-02,\n",
       "         -2.68822163e-02,  2.42613088e-02,  4.79851849e-02,\n",
       "          1.11019732e-02, -4.10281233e-02, -4.57712542e-03,\n",
       "          4.96967435e-02,  2.36987472e-02,  2.14041267e-02,\n",
       "          7.73155093e-02, -2.84110960e-02,  1.10226078e-03,\n",
       "         -1.25485344e-03,  2.65613254e-02, -9.53999814e-03,\n",
       "         -2.64353286e-02,  3.08773499e-02,  1.68389734e-02,\n",
       "          1.12362700e-02, -1.41276233e-02,  4.32357080e-02,\n",
       "         -1.63940545e-02,  4.04906273e-02,  1.36751207e-02,\n",
       "          1.29842637e-02, -9.11981519e-03,  5.77475764e-02,\n",
       "          3.17833088e-02,  2.29737367e-02,  2.32719593e-02,\n",
       "          3.91459605e-03, -1.09491823e-02,  1.74954943e-02,\n",
       "          2.84236483e-02, -5.99667504e-02, -4.97912988e-02,\n",
       "         -6.60559209e-03,  2.35580169e-02, -2.94906013e-02,\n",
       "          9.28065702e-02, -8.03903677e-03, -3.07917898e-03,\n",
       "         -2.69349292e-02,  3.35167572e-02,  4.46166061e-02,\n",
       "          8.27141665e-03, -3.31598171e-03, -6.76075220e-02,\n",
       "         -8.62449501e-03, -2.34020445e-02, -2.40598549e-03,\n",
       "         -3.68335508e-02,  7.70148297e-04, -1.77582651e-02,\n",
       "          5.40755969e-03,  2.29364634e-02,  3.25057618e-02,\n",
       "         -3.85285169e-02, -7.35500157e-02,  3.97188123e-03,\n",
       "          1.30443526e-02, -1.13956705e-02, -9.89472307e-03,\n",
       "          1.00225280e-03, -2.53886506e-02, -8.68038740e-03,\n",
       "         -3.56821567e-02,  1.15536721e-02, -4.30802666e-02,\n",
       "         -9.78695322e-03,  5.13604805e-02, -3.49927098e-02,\n",
       "          1.76446810e-02,  5.51422834e-02,  2.63094553e-03,\n",
       "         -2.65316125e-02, -1.23361545e-03, -3.45740318e-02,\n",
       "          1.18291741e-02,  2.14076359e-02, -2.13891566e-02,\n",
       "         -6.25591800e-02,  1.38467988e-02,  4.86398637e-02,\n",
       "          2.88757328e-02, -1.53109897e-02, -1.54010281e-02,\n",
       "          2.97110640e-02,  4.50005904e-02,  6.37154141e-03,\n",
       "          1.46390768e-02,  3.43645364e-02, -1.10990694e-02,\n",
       "          4.63139964e-03, -3.94642428e-02,  1.64424479e-02,\n",
       "         -4.01123986e-02,  2.14398969e-02, -9.04888660e-02,\n",
       "          8.09444189e-02,  5.09937876e-04,  4.73890156e-02,\n",
       "          4.76722494e-02, -6.59020897e-03,  7.47062918e-03,\n",
       "          5.81035689e-02, -1.41376760e-02, -5.34154614e-03,\n",
       "         -5.02488343e-03,  3.32679451e-02,  4.25877655e-03,\n",
       "         -8.09831321e-02, -7.08863139e-03, -2.01446600e-02,\n",
       "         -2.21473747e-04, -4.68050176e-03,  3.73357050e-02,\n",
       "          4.99249436e-02, -1.40158925e-02, -5.90384416e-02,\n",
       "          1.47580141e-02,  8.17902014e-03, -1.41775915e-02,\n",
       "         -2.56834272e-03,  2.77936161e-02, -9.15772188e-03,\n",
       "          2.93228216e-02,  1.19024199e-02,  3.01036332e-02,\n",
       "         -1.68645941e-02, -6.53456300e-02,  2.16892362e-03,\n",
       "         -1.74986068e-02, -2.19788793e-02,  6.82013575e-03,\n",
       "          1.99519098e-02, -1.92724746e-02,  3.10319681e-02,\n",
       "         -2.97731180e-02,  4.77703959e-02, -1.83046907e-02,\n",
       "          3.01136561e-02, -5.49310148e-02,  1.76275172e-03,\n",
       "         -1.34239625e-02, -3.30294035e-02,  7.10065896e-03,\n",
       "         -5.74669219e-04,  6.22657649e-02, -3.11650410e-02,\n",
       "         -4.17826977e-03, -2.50486154e-02, -7.53038302e-02,\n",
       "          2.91527156e-02,  2.88461801e-02,  1.68222729e-02,\n",
       "         -2.07636431e-02,  1.76354591e-02, -1.32284360e-02,\n",
       "          6.29095221e-03, -2.67145317e-02,  8.00871700e-02,\n",
       "         -3.10005900e-02,  3.50185558e-02, -2.16461811e-03,\n",
       "          1.04101831e-02,  5.64378239e-02, -2.36991551e-02,\n",
       "         -1.76266506e-02, -3.05607468e-02, -7.64685264e-03,\n",
       "          5.15280850e-02,  3.43084857e-02,  2.28131823e-02,\n",
       "         -3.33718993e-02,  3.69051024e-02,  2.32441314e-02,\n",
       "         -1.01162808e-03,  2.37169378e-02,  4.70537646e-03,\n",
       "          2.59062462e-02, -3.03127468e-02,  4.61117402e-02,\n",
       "         -2.64147501e-02, -9.26065352e-03,  3.89828980e-02,\n",
       "          8.30433611e-03, -4.12471127e-03,  2.76499055e-03,\n",
       "         -1.28312865e-02, -2.12527774e-02,  3.60018611e-02,\n",
       "         -3.36833708e-02, -9.97842755e-03, -2.25079935e-02,\n",
       "         -3.74631118e-03,  6.44031763e-02, -2.29943786e-02,\n",
       "          7.60452531e-04, -8.99253879e-03,  1.35235358e-02,\n",
       "          1.34105589e-02, -3.43373120e-02,  1.00997863e-02,\n",
       "          2.58019101e-03,  2.52527129e-02, -9.38066021e-02,\n",
       "          5.17200120e-02,  6.44234344e-02, -1.26306815e-02]]),\n",
       " 'documents': [\"Question: How do I determine the correct size for a top hat?\\nAnswer: To find your perfect top hat size, measure the circumference of your head just above your ears, where the hat will sit. Compare this measurement (in cm or inches) to the size chart available on each top hat product page. If you're between sizes, we generally recommend sizing up for comfort.\"],\n",
       " 'uris': None,\n",
       " 'data': None,\n",
       " 'metadatas': [None],\n",
       " 'included': [<IncludeEnum.embeddings: 'embeddings'>,\n",
       "  <IncludeEnum.documents: 'documents'>,\n",
       "  <IncludeEnum.metadatas: 'metadatas'>]}"
      ]
     },
     "execution_count": 8,
     "metadata": {},
     "output_type": "execute_result"
    }
   ],
   "source": [
    "db.peek(1)"
   ]
  },
  {
   "cell_type": "markdown",
   "metadata": {
    "id": "Tu5zRErgsQ8u"
   },
   "source": [
    "## Retrieval: Find relevant documents\n",
    "\n",
    "To search the Chroma database, call the `query` method. Note that you also switch to the `retrieval_query` mode of embedding generation.\n"
   ]
  },
  {
   "cell_type": "code",
   "execution_count": 17,
   "metadata": {
    "id": "gQdJMbTSLtKE"
   },
   "outputs": [
    {
     "data": {
      "text/markdown": [
       "Question: Are your caps structured or unstructured?\n",
       "Answer: We offer both! Structured caps have a stiff buckram lining in the front panels to maintain their shape, while unstructured caps have a softer, more relaxed fit. This information is specified in the product description for each cap style."
      ],
      "text/plain": [
       "<IPython.core.display.Markdown object>"
      ]
     },
     "execution_count": 17,
     "metadata": {},
     "output_type": "execute_result"
    }
   ],
   "source": [
    "# Switch to query mode when generating embeddings.\n",
    "embed_fn.document_mode = False\n",
    "\n",
    "# Search the Chroma DB using the specified query.\n",
    "query = \"Hi! Do you sell caps?\"\n",
    "\n",
    "result = db.query(query_texts=[query], n_results=2)\n",
    "[all_passages] = result[\"documents\"]\n",
    "\n",
    "Markdown(all_passages[0])"
   ]
  },
  {
   "cell_type": "code",
   "execution_count": 18,
   "metadata": {},
   "outputs": [
    {
     "data": {
      "text/markdown": [
       "Question: Do you offer any discounts for first-time buyers?\n",
       "Answer: Yes! We often have a welcome discount for new customers who sign up for our email newsletter. Please check the banner at the top or bottom of our website for current promotions."
      ],
      "text/plain": [
       "<IPython.core.display.Markdown object>"
      ]
     },
     "execution_count": 18,
     "metadata": {},
     "output_type": "execute_result"
    }
   ],
   "source": [
    "# Search the Chroma DB using the specified query.\n",
    "query1 = \"I want to buy a car.\"\n",
    "\n",
    "result1 = db.query(query_texts=[query1], n_results=2)\n",
    "[all_passages1] = result1[\"documents\"]\n",
    "\n",
    "Markdown(all_passages1[0])"
   ]
  },
  {
   "cell_type": "markdown",
   "metadata": {
    "id": "s8PNRMpOQkm5"
   },
   "source": [
    "## Augmented generation: Answer the question\n",
    "\n",
    "Now that you have found a relevant passage from the set of documents (the *retrieval* step), you can now assemble a generation prompt to have the Gemini API *generate* a final answer. Note that in this example only a single passage was retrieved. In practice, especially when the size of your underlying data is large, you will want to retrieve more than one result and let the Gemini model determine what passages are relevant in answering the question. For this reason it's OK if some retrieved passages are not directly related to the question - this generation step should ignore them."
   ]
  },
  {
   "cell_type": "code",
   "execution_count": 19,
   "metadata": {
    "id": "b6_Y-GOymaXu",
    "scrolled": true
   },
   "outputs": [
    {
     "name": "stdout",
     "output_type": "stream",
     "text": [
      "You are a helpful and informative bot that answers questions using text from the reference passage included below. \n",
      "Be sure to respond in a complete sentence, being comprehensive, including all relevant background information. \n",
      "However, you are talking to a non-technical audience, so be sure to break down complicated concepts and \n",
      "strike a friendly and converstional tone. If the passage is irrelevant to the answer, you may ignore it.\n",
      "\n",
      "QUESTION: Hi! Do you sell caps?\n",
      "PASSAGE: Question: Are your caps structured or unstructured? Answer: We offer both! Structured caps have a stiff buckram lining in the front panels to maintain their shape, while unstructured caps have a softer, more relaxed fit. This information is specified in the product description for each cap style.\n",
      "PASSAGE: Question: The medium red cap I want is out of stock. When will it be back? Answer: We restock popular items regularly. You can sign up for a 'Back in Stock' notification directly on the product page. Enter your email, and we'll notify you as soon as the medium red cap is available again.\n",
      "\n"
     ]
    }
   ],
   "source": [
    "query_oneline = query.replace(\"\\n\", \" \")\n",
    "\n",
    "# This prompt is where you can specify any guidance on tone, or what topics the model should stick to, or avoid.\n",
    "prompt = f\"\"\"You are a helpful and informative bot that answers questions using text from the reference passage included below. \n",
    "Be sure to respond in a complete sentence, being comprehensive, including all relevant background information. \n",
    "However, you are talking to a non-technical audience, so be sure to break down complicated concepts and \n",
    "strike a friendly and converstional tone. If the passage is irrelevant to the answer, you may ignore it.\n",
    "\n",
    "QUESTION: {query_oneline}\n",
    "\"\"\"\n",
    "\n",
    "# Add the retrieved documents to the prompt.\n",
    "for passage in all_passages:\n",
    "    passage_oneline = passage.replace(\"\\n\", \" \")\n",
    "    prompt += f\"PASSAGE: {passage_oneline}\\n\"\n",
    "\n",
    "print(prompt)"
   ]
  },
  {
   "cell_type": "markdown",
   "metadata": {
    "id": "VRy6yXzcPxLB"
   },
   "source": [
    "Now use the `generate_content` method to to generate an answer to the question."
   ]
  },
  {
   "cell_type": "code",
   "execution_count": 20,
   "metadata": {
    "id": "EwfyxFM6Giy9",
    "scrolled": true
   },
   "outputs": [
    {
     "data": {
      "text/markdown": [
       "We offer both structured and unstructured caps; structured caps have a stiff buckram lining in the front panels to maintain their shape, while unstructured caps have a softer, more relaxed fit.\n"
      ],
      "text/plain": [
       "<IPython.core.display.Markdown object>"
      ]
     },
     "execution_count": 20,
     "metadata": {},
     "output_type": "execute_result"
    }
   ],
   "source": [
    "answer = client.models.generate_content(\n",
    "    model=\"gemini-2.0-flash\",\n",
    "    contents=prompt)\n",
    "\n",
    "Markdown(answer.text)"
   ]
  },
  {
   "cell_type": "markdown",
   "metadata": {},
   "source": [
    "## Another example Query"
   ]
  },
  {
   "cell_type": "code",
   "execution_count": 21,
   "metadata": {},
   "outputs": [
    {
     "name": "stdout",
     "output_type": "stream",
     "text": [
      "You are a helpful and informative bot that answers questions using text from the reference passage included below. \n",
      "Be sure to respond in a complete sentence, being comprehensive, including all relevant background information. \n",
      "However, you are talking to a non-technical audience, so be sure to break down complicated concepts and \n",
      "strike a friendly and converstional tone. If the passage is irrelevant to the answer, you may ignore it.\n",
      "\n",
      "QUESTION: I want to buy a car.\n",
      "PASSAGE: Question: Do you offer any discounts for first-time buyers? Answer: Yes! We often have a welcome discount for new customers who sign up for our email newsletter. Please check the banner at the top or bottom of our website for current promotions.\n",
      "PASSAGE: Question: The medium red cap I want is out of stock. When will it be back? Answer: We restock popular items regularly. You can sign up for a 'Back in Stock' notification directly on the product page. Enter your email, and we'll notify you as soon as the medium red cap is available again.\n",
      "\n"
     ]
    }
   ],
   "source": [
    "query_oneline1 = query1.replace(\"\\n\", \" \")\n",
    "\n",
    "# This prompt is where you can specify any guidance on tone, or what topics the model should stick to, or avoid.\n",
    "prompt1 = f\"\"\"You are a helpful and informative bot that answers questions using text from the reference passage included below. \n",
    "Be sure to respond in a complete sentence, being comprehensive, including all relevant background information. \n",
    "However, you are talking to a non-technical audience, so be sure to break down complicated concepts and \n",
    "strike a friendly and converstional tone. If the passage is irrelevant to the answer, you may ignore it.\n",
    "\n",
    "QUESTION: {query_oneline1}\n",
    "\"\"\"\n",
    "\n",
    "# Add the retrieved documents to the prompt.\n",
    "for passage in all_passages1:\n",
    "    passage_oneline = passage.replace(\"\\n\", \" \")\n",
    "    prompt1 += f\"PASSAGE: {passage_oneline}\\n\"\n",
    "\n",
    "print(prompt1)"
   ]
  },
  {
   "cell_type": "code",
   "execution_count": 22,
   "metadata": {},
   "outputs": [
    {
     "data": {
      "text/markdown": [
       "Based on the reference passage, while I do not sell cars, if you are a new customer and sign up for an email newsletter, you may receive a welcome discount. Please check the banner at the top or bottom of the website for current promotions.\n"
      ],
      "text/plain": [
       "<IPython.core.display.Markdown object>"
      ]
     },
     "execution_count": 22,
     "metadata": {},
     "output_type": "execute_result"
    }
   ],
   "source": [
    "answer = client.models.generate_content(\n",
    "    model=\"gemini-2.0-flash\",\n",
    "    contents=prompt1)\n",
    "\n",
    "Markdown(answer.text)"
   ]
  },
  {
   "cell_type": "code",
   "execution_count": null,
   "metadata": {},
   "outputs": [],
   "source": []
  }
 ],
 "metadata": {
  "colab": {
   "name": "day-2-document-q-a-with-rag.ipynb",
   "toc_visible": true
  },
  "kaggle": {
   "accelerator": "none",
   "dataSources": [],
   "dockerImageVersionId": 30786,
   "isGpuEnabled": false,
   "isInternetEnabled": true,
   "language": "python",
   "sourceType": "notebook"
  },
  "kernelspec": {
   "display_name": "Python 3 (ipykernel)",
   "language": "python",
   "name": "python3"
  },
  "language_info": {
   "codemirror_mode": {
    "name": "ipython",
    "version": 3
   },
   "file_extension": ".py",
   "mimetype": "text/x-python",
   "name": "python",
   "nbconvert_exporter": "python",
   "pygments_lexer": "ipython3",
   "version": "3.13.2"
  }
 },
 "nbformat": 4,
 "nbformat_minor": 4
}
